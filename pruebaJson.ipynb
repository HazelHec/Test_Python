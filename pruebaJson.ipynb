{
 "cells": [
  {
   "cell_type": "code",
   "execution_count": 8,
   "metadata": {},
   "outputs": [
    {
     "name": "stdout",
     "output_type": "stream",
     "text": [
      "Hola mundo\n",
      "Hola Axel\n"
     ]
    }
   ],
   "source": [
    "def helloWorld(func):\n",
    "    def wrapper (*args, **kwargs):\n",
    "        print('Hola mundo')\n",
    "        result = func(*args, **kwargs)\n",
    "        return(result)\n",
    "    return (wrapper)\n",
    "        \n",
    "@helloWorld\n",
    "def presentation(nombre):\n",
    "    print(f'Hola {nombre}')\n",
    "\n",
    "presentation('Axel')    "
   ]
  },
  {
   "cell_type": "code",
   "execution_count": 6,
   "metadata": {},
   "outputs": [
    {
     "name": "stdout",
     "output_type": "stream",
     "text": [
      "Argumentos posicionales: (1, 2)\n",
      "Argumentos de palabras clave: {'c': 3}\n",
      "Dentro de la función\n"
     ]
    }
   ],
   "source": [
    "def decorador(funcion):\n",
    "    def wrapper(*args, **kwargs):\n",
    "        print(\"Argumentos posicionales:\", args)\n",
    "        print(\"Argumentos de palabras clave:\", kwargs)\n",
    "        resultado = funcion(*args, **kwargs)\n",
    "        return resultado\n",
    "    return wrapper\n",
    "\n",
    "@decorador\n",
    "def mi_funcion(a, b, c):\n",
    "    print(\"Dentro de la función\")\n",
    "\n",
    "mi_funcion(1, 2, c=3)"
   ]
  },
  {
   "cell_type": "code",
   "execution_count": 9,
   "metadata": {},
   "outputs": [
    {
     "name": "stdout",
     "output_type": "stream",
     "text": [
      "                                               users\n",
      "0  {'first': 'Lina', 'last': 'Lindsey', 'email': ...\n",
      "1  {'first': 'Lenora', 'last': 'Norton', 'email':...\n",
      "2  {'first': 'Ian', 'last': 'Holland', 'email': '...\n",
      "  first     last              email     city state\n",
      "0  Lina  Lindsey  surwojih@uvegi.iq  Emninhe    WV\n"
     ]
    },
    {
     "name": "stderr",
     "output_type": "stream",
     "text": [
      "C:\\Users\\Usuario\\AppData\\Local\\Temp\\ipykernel_11332\\3168256066.py:3: DeprecationWarning: \n",
      "Pyarrow will become a required dependency of pandas in the next major release of pandas (pandas 3.0),\n",
      "(to allow more performant data types, such as the Arrow string type, and better interoperability with other libraries)\n",
      "but was not found to be installed on your system.\n",
      "If this would cause problems for you,\n",
      "please provide us feedback at https://github.com/pandas-dev/pandas/issues/54466\n",
      "        \n",
      "  import pandas as pd\n"
     ]
    },
    {
     "ename": "",
     "evalue": "",
     "output_type": "error",
     "traceback": [
      "\u001b[1;31mThe Kernel crashed while executing code in the current cell or a previous cell. \n",
      "\u001b[1;31mPlease review the code in the cell(s) to identify a possible cause of the failure. \n",
      "\u001b[1;31mClick <a href='https://aka.ms/vscodeJupyterKernelCrash'>here</a> for more info. \n",
      "\u001b[1;31mView Jupyter <a href='command:jupyter.viewOutput'>log</a> for further details."
     ]
    }
   ],
   "source": [
    "import typing\n",
    "import strawberry\n",
    "import pandas as pd\n",
    "dt =  pd.read_json('prueba.json')\n",
    "dt2 = pd.DataFrame([dt.iloc[0]['users']])\n",
    "print(dt)\n",
    "print(dt2)"
   ]
  }
 ],
 "metadata": {
  "kernelspec": {
   "display_name": "Python 3",
   "language": "python",
   "name": "python3"
  },
  "language_info": {
   "codemirror_mode": {
    "name": "ipython",
    "version": 3
   },
   "file_extension": ".py",
   "mimetype": "text/x-python",
   "name": "python",
   "nbconvert_exporter": "python",
   "pygments_lexer": "ipython3",
   "version": "3.12.1"
  }
 },
 "nbformat": 4,
 "nbformat_minor": 2
}
