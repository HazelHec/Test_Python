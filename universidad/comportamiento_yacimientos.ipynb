{
 "cells": [
  {
   "cell_type": "markdown",
   "metadata": {},
   "source": [
    "<h2 style = \"color:#FFDE59;\">Ejercicio 1</h2>"
   ]
  },
  {
   "cell_type": "markdown",
   "metadata": {},
   "source": [
    "<p>\n",
    "<span style=\"font-size: 20px;\">1. Al ser becario del IMP en el área de ingeniería de yacimientos, te ha asignado un yacimiento  que produce por gas en solución y casquete de gas. De análisis de registros geofísicos y  pruebas de presión se ha determinado que el tamaño del casquete inicialmente era de la  mitad del volumen inicial de petróleo. La presión inicial del yacimiento es de 2500psia y la  relación gas-aceite es de 721 scf/STB. De análisis volumétricos previos se determino un  primer valor de volumen original de aceite de 56MMSTB. Mientras a análisis la información  te percatas de que no te proporcionaron todos los datos. La información faltante tiene que  ver con la inyección de gas que inicio en cierto punto de la explotación del yacimiento con  el objetivo de mantener la presión. No se conoce la presión (o tiempo) al cual inicio el  programa de inyección, tampoco se conoce la cantidad de gas inyectada. Se anexa  información PVT y de producción. </span>\n",
    "<br><br>\n",
    "A) Determinar cuándo se inició la inyección de gas (presión de yacimiento) \n",
    "<br>\n",
    "B) Determinar la cantidad de gas inyectado desde el inicio de la inyección hasta la  presión de 500psia\n",
    "<p>\n"
   ]
  },
  {
   "cell_type": "code",
   "execution_count": 2,
   "metadata": {},
   "outputs": [],
   "source": [
    "import numpy as np\n",
    "import matplotlib as plt\n",
    "import pandas as pd"
   ]
  },
  {
   "cell_type": "code",
   "execution_count": 6,
   "metadata": {},
   "outputs": [],
   "source": [
    "data = {\n",
    "    'P': [2500,2300,2100,1900,1700,1500,1300,1100,900,700,500],\n",
    "    'Bg': [0.001048,0.001155,0.001280,0.001440,0.001634,0.001884,0.002206,0.002654,0.003300,0.004315,0.006163],\n",
    "    'Bt': [1.498, 1.523, 1.562, 1.620, 1.701, 1.817, 1.967, 2.251, 2.597, 3.209, 4.361],\n",
    "    'Np': [0, 3.741, 6.849, 9.173, 10.99, 12.42, 14.39, 16.14, 17.38, 18.50, 19.59],\n",
    "    'Rp': [0,716,966,1297,1623,1953,2551,3214,3765,4317,4839]\n",
    "}\n",
    "\n",
    "extra_data = {\n",
    "    \"N\" : 56,\n",
    "    \"Pi\" : 2500,\n",
    "    \"Rsi\" : 721,\n",
    "    \"m\" : 0.5\n",
    "}"
   ]
  },
  {
   "cell_type": "code",
   "execution_count": 26,
   "metadata": {},
   "outputs": [
    {
     "name": "stdout",
     "output_type": "stream",
     "text": [
      "       P        Bg     Bt      Np    Rp\n",
      "0   2500  0.001048  1.498   0.000     0\n",
      "1   2300  0.001155  1.523   3.741   716\n",
      "2   2100  0.001280  1.562   6.849   966\n",
      "3   1900  0.001440  1.620   9.173  1297\n",
      "4   1700  0.001634  1.701  10.990  1623\n",
      "5   1500  0.001884  1.817  12.420  1953\n",
      "6   1300  0.002206  1.967  14.390  2551\n",
      "7   1100  0.002654  2.251  16.140  3214\n",
      "8    900  0.003300  2.597  17.380  3765\n",
      "9    700  0.004315  3.209  18.500  4317\n",
      "10   500  0.006163  4.361  19.590  4839\n"
     ]
    }
   ],
   "source": [
    "df  = pd.DataFrame(data)\n",
    "print(df)"
   ]
  },
  {
   "cell_type": "code",
   "execution_count": 32,
   "metadata": {},
   "outputs": [],
   "source": [
    "def Rp_c(Np, Bg, Bt, N, Rsi, m, Bti, Bgi):\n",
    "    f1 = ((N / Np) * ((Bt - Bti) + (m * (Bti / Bgi) * (Bg - Bgi)))) - Bt\n",
    "    f2 = Bg\n",
    "    return (f1 / f2) + Rsi"
   ]
  },
  {
   "cell_type": "code",
   "execution_count": 42,
   "metadata": {},
   "outputs": [],
   "source": [
    "Bti = float(df.iloc[0][\"Bt\"]) \n",
    "Bgi = float(df.iloc[0][\"Bg\"])\n",
    "df[\"Rp_c\"] = Rp_c(df[\"Np\"], df[\"Bg\"], df[\"Bt\"], extra_data[\"N\"], extra_data[\"Rsi\"], extra_data[\"m\"], Bti, Bgi)"
   ]
  },
  {
   "cell_type": "code",
   "execution_count": 57,
   "metadata": {},
   "outputs": [
    {
     "name": "stdout",
     "output_type": "stream",
     "text": [
      "Gas inyectado = 10    1802.040373\n",
      "dtype: float64 \n",
      " Volumen de Gas inyectado = 10    35301.9709\n",
      "dtype: float64\n"
     ]
    }
   ],
   "source": [
    "val_calculate = df[df[\"P\"] == 500]\n",
    "\n",
    "gas_inyectado = val_calculate[\"Rp\"] - val_calculate[\"Rp_c\"]\n",
    "vol_gas_inyectado = val_calculate[\"Np\"] * gas_inyectado\n",
    "\n",
    "print(f\"Gas inyectado = {gas_inyectado} \\n Volumen de Gas inyectado (G)= {vol_gas_inyectado}\")"
   ]
  }
 ],
 "metadata": {
  "kernelspec": {
   "display_name": "env",
   "language": "python",
   "name": "python3"
  },
  "language_info": {
   "codemirror_mode": {
    "name": "ipython",
    "version": 3
   },
   "file_extension": ".py",
   "mimetype": "text/x-python",
   "name": "python",
   "nbconvert_exporter": "python",
   "pygments_lexer": "ipython3",
   "version": "3.10.6"
  }
 },
 "nbformat": 4,
 "nbformat_minor": 2
}
